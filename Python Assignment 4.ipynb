{
 "cells": [
  {
   "cell_type": "markdown",
   "metadata": {},
   "source": [
    "1.1 Write a Python Program(with class concepts) to find the area of the triangle using the below  formula. \n",
    "area = (s*(s-a)*(s-b)*(s-c)) ** 0.5 \n",
    "Function to take the length of the sides of triangle from user should be defined in the parent  class and function to calculate the area should be defined in subclass.\n"
   ]
  },
  {
   "cell_type": "code",
   "execution_count": 17,
   "metadata": {},
   "outputs": [
    {
     "name": "stdout",
     "output_type": "stream",
     "text": [
      "Enter int2\n",
      "Enter int4\n",
      "Enter int5\n",
      "3.799671038392666\n"
     ]
    }
   ],
   "source": [
    "class Calculate:\n",
    "    def __init__(self):\n",
    "        self.a=float(input(\"Enter int\"))\n",
    "        self.b=float(input(\"Enter int\"))\n",
    "        self.c=float(input(\"Enter int\"))\n",
    "        \n",
    "class Triangle(Calculate):\n",
    "    def area(self):\n",
    "        s=(self.a + self.b + self.c)/2\n",
    "        return (s*(s-self.a)*(s-self.b)*(s-self.c))** 0.5\n",
    "        \n",
    "t=Triangle()\n",
    "print(t.area())\n"
   ]
  },
  {
   "cell_type": "markdown",
   "metadata": {},
   "source": [
    "1.2 Write a function filter_long_words() that takes a list of words and an integer n and returns  the list of words that are longer than n."
   ]
  },
  {
   "cell_type": "code",
   "execution_count": 26,
   "metadata": {},
   "outputs": [],
   "source": [
    "def filter_long_words():\n",
    "    para=input(\"Enter words :\")\n",
    "    num=int(input(\"Enter a digit :\"))\n",
    "    paragraph=para.split()\n",
    "    res=[]\n",
    "    for item in paragraph:\n",
    "        if len(item)>num:\n",
    "            res.append(item)\n",
    "    return res\n",
    "    "
   ]
  },
  {
   "cell_type": "code",
   "execution_count": 27,
   "metadata": {},
   "outputs": [
    {
     "name": "stdout",
     "output_type": "stream",
     "text": [
      "Enter words :my name is piya\n",
      "Enter a digit :2\n"
     ]
    },
    {
     "data": {
      "text/plain": [
       "['name', 'piya']"
      ]
     },
     "execution_count": 27,
     "metadata": {},
     "output_type": "execute_result"
    }
   ],
   "source": [
    "filter_long_words()"
   ]
  },
  {
   "cell_type": "markdown",
   "metadata": {},
   "source": [
    "2.1 Write a Python program using function concept that maps list of words into a list of integers  representing the lengths of the corresponding words. \n",
    "Hint: If a list [ ab,cde,erty] is passed on to the python function output should come as [2,3,4] Here 2,3 and 4 are the lengths of the words in the list."
   ]
  },
  {
   "cell_type": "code",
   "execution_count": 29,
   "metadata": {},
   "outputs": [],
   "source": [
    "def lencounter():\n",
    "    words=input(\"Enter words \")\n",
    "    wordslist=words.split()\n",
    "    lenlist=[]\n",
    "    for item in wordslist:\n",
    "        lenlist.append(len(item))\n",
    "    return lenlist"
   ]
  },
  {
   "cell_type": "code",
   "execution_count": 30,
   "metadata": {},
   "outputs": [
    {
     "name": "stdout",
     "output_type": "stream",
     "text": [
      "Enter words this is a test line with some random words\n"
     ]
    },
    {
     "data": {
      "text/plain": [
       "[4, 2, 1, 4, 4, 4, 4, 6, 5]"
      ]
     },
     "execution_count": 30,
     "metadata": {},
     "output_type": "execute_result"
    }
   ],
   "source": [
    "lencounter()"
   ]
  },
  {
   "cell_type": "markdown",
   "metadata": {},
   "source": [
    "2.2 Write a Python function which takes a character (i.e. a string of length 1) and returns True if  it is a vowel, False otherwise. \n"
   ]
  },
  {
   "cell_type": "code",
   "execution_count": 37,
   "metadata": {},
   "outputs": [],
   "source": [
    "def testvowel():\n",
    "    while True:\n",
    "        char=input(\"Enter alphabet : \")\n",
    "        if len(char)>1:\n",
    "            print(\"Please enter single character\")\n",
    "        elif(char=='a' or char=='e' or char=='i' or char=='o' or char=='u'):\n",
    "            return True\n",
    "        else:\n",
    "            return False\n",
    "    "
   ]
  },
  {
   "cell_type": "code",
   "execution_count": 38,
   "metadata": {},
   "outputs": [
    {
     "name": "stdout",
     "output_type": "stream",
     "text": [
      "Enter alphabet : you\n",
      "Please enter single character\n",
      "Enter alphabet : o\n"
     ]
    },
    {
     "data": {
      "text/plain": [
       "True"
      ]
     },
     "execution_count": 38,
     "metadata": {},
     "output_type": "execute_result"
    }
   ],
   "source": [
    "testvowel()"
   ]
  },
  {
   "cell_type": "code",
   "execution_count": null,
   "metadata": {},
   "outputs": [],
   "source": []
  }
 ],
 "metadata": {
  "kernelspec": {
   "display_name": "Python 3",
   "language": "python",
   "name": "python3"
  },
  "language_info": {
   "codemirror_mode": {
    "name": "ipython",
    "version": 3
   },
   "file_extension": ".py",
   "mimetype": "text/x-python",
   "name": "python",
   "nbconvert_exporter": "python",
   "pygments_lexer": "ipython3",
   "version": "3.6.4"
  }
 },
 "nbformat": 4,
 "nbformat_minor": 2
}
